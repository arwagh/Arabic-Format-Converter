{
 "cells": [
  {
   "cell_type": "code",
   "execution_count": 2,
   "metadata": {},
   "outputs": [],
   "source": [
    "from PIL import Image\n",
    "import os\n",
    "#from pydub import AudioSegment\n",
    "#from pydub.utils import which\n",
    "#import subprocess"
   ]
  },
  {
   "cell_type": "code",
   "execution_count": 12,
   "metadata": {},
   "outputs": [],
   "source": [
    "def change_img_format(files, new_format):\n",
    "    for file_name in files:\n",
    "        im = Image.open(file_name)\n",
    "        im = im.convert(\"RGB\")\n",
    "        im.save(\"output_images\\\\\"+file_name.split('\\\\')[-1].split('.')[0]+new_format)"
   ]
  },
  {
   "cell_type": "code",
   "execution_count": 13,
   "metadata": {},
   "outputs": [],
   "source": [
    "change_img_format([\"images\\\\image.png\", \"images\\\\video-player.png\"], \".jpeg\")"
   ]
  },
  {
   "cell_type": "code",
   "execution_count": 3,
   "metadata": {},
   "outputs": [],
   "source": [
    "def change_video_format(files, new_format):\n",
    "    for file_name in files:\n",
    "        os.system(\"ffmpeg -i \" + file_name + \" output_videos\\\\\" + file_name.split('\\\\')[-1].split('.')[0] + new_format)\n",
    "        print(\"output_videos\\\\\"+file_name.split('\\\\')[-1].split('.')[0]+new_format)"
   ]
  },
  {
   "cell_type": "code",
   "execution_count": 5,
   "metadata": {
    "scrolled": true
   },
   "outputs": [
    {
     "name": "stdout",
     "output_type": "stream",
     "text": [
      "output_videos\\videoplayback.WMV\n"
     ]
    }
   ],
   "source": [
    "change_video_format([\"videos\\\\videoplayback.mp4\"], \".WMV\")"
   ]
  },
  {
   "cell_type": "code",
   "execution_count": 8,
   "metadata": {},
   "outputs": [],
   "source": [
    "def change_audio_format(files, new_format):\n",
    "    for file_name in files:\n",
    "        os.system(\"ffmpeg -i \" + file_name + \" output_audios\\\\\" + file_name.split('\\\\')[-1].split('.')[0] + new_format)"
   ]
  },
  {
   "cell_type": "code",
   "execution_count": 10,
   "metadata": {
    "scrolled": true
   },
   "outputs": [],
   "source": [
    "change_audio_format([\"audios\\\\114.mp3\"], \".ogg\")"
   ]
  }
 ],
 "metadata": {
  "kernelspec": {
   "display_name": "Python 3",
   "language": "python",
   "name": "python3"
  },
  "language_info": {
   "codemirror_mode": {
    "name": "ipython",
    "version": 3
   },
   "file_extension": ".py",
   "mimetype": "text/x-python",
   "name": "python",
   "nbconvert_exporter": "python",
   "pygments_lexer": "ipython3",
   "version": "3.7.6"
  }
 },
 "nbformat": 4,
 "nbformat_minor": 4
}
